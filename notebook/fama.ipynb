{
 "cells": [
  {
   "cell_type": "code",
   "execution_count": 1,
   "metadata": {},
   "outputs": [
    {
     "data": {
      "text/plain": [
       "'\\nObjectives [/]:\\n\\n1. Get Market Type [/]\\n2. Get Date [/]\\n3. Get Center [/]\\n4. Get Data [/]\\n    i.    Get id\\n    ii.   Get Variety Name\\n    iii.  Get Grade\\n    iv. Get Unit (Kilogram => KG)\\n    v.  Get Min Price\\n    vi.   Get Avg Price\\n    vii.  Get Max Price\\n5. Convert into dataframe and then to CSV[/]\\n\\n'"
      ]
     },
     "execution_count": 1,
     "metadata": {},
     "output_type": "execute_result"
    }
   ],
   "source": [
    "'''\n",
    "Objectives [/]:\n",
    "\n",
    "1. Get Market Type [/]\n",
    "2. Get Date [/]\n",
    "3. Get Center [/]\n",
    "4. Get Data [/]\n",
    "    i.    Get id\n",
    "    ii.   Get Variety Name\n",
    "    iii.  Get Grade\n",
    "    iv. Get Unit (Kilogram => KG)\n",
    "    v.  Get Min Price\n",
    "    vi.   Get Avg Price\n",
    "    vii.  Get Max Price\n",
    "5. Convert into dataframe and then to CSV[/]\n",
    "\n",
    "'''"
   ]
  },
  {
   "cell_type": "code",
   "execution_count": 2,
   "metadata": {},
   "outputs": [],
   "source": [
    "import re\n",
    "from bs4 import BeautifulSoup\n",
    "import pandas as pd\n",
    "from selenium import webdriver\n",
    "from selenium.webdriver.chrome.service import Service\n",
    "from webdriver_manager.chrome import ChromeDriverManager"
   ]
  },
  {
   "cell_type": "code",
   "execution_count": 3,
   "metadata": {},
   "outputs": [
    {
     "name": "stderr",
     "output_type": "stream",
     "text": [
      "\n",
      "\n",
      "====== WebDriver manager ======\n",
      "Current google-chrome version is 101.0.4951\n",
      "Get LATEST chromedriver version for 101.0.4951 google-chrome\n",
      "Driver [C:\\Users\\User\\.wdm\\drivers\\chromedriver\\win32\\101.0.4951.41\\chromedriver.exe] found in cache\n"
     ]
    }
   ],
   "source": [
    "service = Service(executable_path=ChromeDriverManager().install())\n",
    "op = webdriver.ChromeOptions()\n",
    "op.add_argument('headless')\n",
    "driver = webdriver.Chrome(service=service, options=op)"
   ]
  },
  {
   "cell_type": "code",
   "execution_count": 4,
   "metadata": {},
   "outputs": [],
   "source": [
    "market_type_regex = \"(Farm|Wholesale|Retail)\\sPrice\"\n",
    "date_regex = \"[\\d]{2}\\s[A-Z]+\\s[\\d]{4}\""
   ]
  },
  {
   "cell_type": "code",
   "execution_count": 5,
   "metadata": {},
   "outputs": [],
   "source": [
    "base_URL = \"https://www.fama.gov.my/en/harga-pasaran-terkini\"\n",
    "\n",
    "driver.get(base_URL)\n",
    "main_soup = BeautifulSoup(driver.page_source, \"html.parser\")\n",
    "\n",
    "# main_page = requests.get(base_URL)\n",
    "# main_soup = BeautifulSoup(main_page.content, \"html.parser\")\n",
    "\n",
    "market_price_type = dict()\n",
    "market_price_type_tag = main_soup.find_all(\"a\", string=re.compile(market_type_regex))\n",
    "\n",
    "for market_type in market_price_type_tag:\n",
    "    market_price_type[market_type.text] = market_type.get(\"href\")"
   ]
  },
  {
   "cell_type": "code",
   "execution_count": 6,
   "metadata": {},
   "outputs": [],
   "source": [
    "def get_centres(soup):\n",
    "    centres = list()\n",
    "    for b_element in soup.find_all('b'):\n",
    "        if b_element.text not in [\"[\", \"]\"]:\n",
    "            centre_name = \" \".join(b_element.text.split(\" \")[-3:]).strip(\" :\")\n",
    "            centres.append(centre_name)\n",
    "    return centres"
   ]
  },
  {
   "cell_type": "code",
   "execution_count": 7,
   "metadata": {},
   "outputs": [],
   "source": [
    "def get_data(soup, centres, market):\n",
    "    rows = list()\n",
    "    data_tables = soup.find_all('table')[0].find_all('table')[1::2]\n",
    "    for tables, centre in zip(data_tables, centres):\n",
    "        for tr_element in tables.find_all('tr')[2:]:\n",
    "            td_elements = tr_element.find_all('td')\n",
    "            # variety_id = tr_element['id']\n",
    "            variety_name = td_elements[0].text\n",
    "            grade = td_elements[1].text\n",
    "            unit = td_elements[2].text.replace(\"KILOGRAM\", \"KG\")\n",
    "            max_price = \"%.2f\" % float(td_elements[3].text)\n",
    "            avg_price = \"%.2f\" % float(td_elements[4].text)\n",
    "            min_price =  \"%.2f\" % float(td_elements[5].text)\n",
    "            rows.append([market, centre, variety_name, grade, unit, max_price, avg_price, min_price])\n",
    "    return rows"
   ]
  },
  {
   "cell_type": "code",
   "execution_count": 8,
   "metadata": {},
   "outputs": [],
   "source": [
    "data = list()\n",
    "\n",
    "for market in market_price_type:\n",
    "    driver.get(market_price_type[market])\n",
    "    soup = BeautifulSoup(driver.page_source, \"html.parser\")\n",
    "\n",
    "    # Get date uploaded\n",
    "    date = re.search(date_regex, soup.find('h3').text).group(0)\n",
    "\n",
    "    # Get centers list\n",
    "    centres = get_centres(soup)\n",
    "    \n",
    "    # Get data\n",
    "    data = data + get_data(soup, centres, market)"
   ]
  },
  {
   "cell_type": "code",
   "execution_count": 9,
   "metadata": {},
   "outputs": [
    {
     "data": {
      "text/plain": [
       "1663"
      ]
     },
     "execution_count": 9,
     "metadata": {},
     "output_type": "execute_result"
    }
   ],
   "source": [
    "len(data)"
   ]
  },
  {
   "cell_type": "code",
   "execution_count": 10,
   "metadata": {},
   "outputs": [],
   "source": [
    "# Get the centre\n",
    "df = pd.DataFrame(data, columns = ['Market Price Type', 'Centre', 'Variety Name', 'Grade', 'Unit', 'Max Price', 'Average Price', 'Min. Price'])"
   ]
  },
  {
   "cell_type": "code",
   "execution_count": 11,
   "metadata": {},
   "outputs": [],
   "source": [
    "df.to_csv(\"{}_market_price.csv\".format(\"_\".join(date.lower().split(\" \"))), index=False)"
   ]
  },
  {
   "cell_type": "code",
   "execution_count": 12,
   "metadata": {},
   "outputs": [
    {
     "data": {
      "text/html": [
       "<div>\n",
       "<style scoped>\n",
       "    .dataframe tbody tr th:only-of-type {\n",
       "        vertical-align: middle;\n",
       "    }\n",
       "\n",
       "    .dataframe tbody tr th {\n",
       "        vertical-align: top;\n",
       "    }\n",
       "\n",
       "    .dataframe thead th {\n",
       "        text-align: right;\n",
       "    }\n",
       "</style>\n",
       "<table border=\"1\" class=\"dataframe\">\n",
       "  <thead>\n",
       "    <tr style=\"text-align: right;\">\n",
       "      <th></th>\n",
       "      <th>Market Price Type</th>\n",
       "      <th>Centre</th>\n",
       "      <th>Variety Name</th>\n",
       "      <th>Grade</th>\n",
       "      <th>Unit</th>\n",
       "      <th>Max Price</th>\n",
       "      <th>Average Price</th>\n",
       "      <th>Min. Price</th>\n",
       "    </tr>\n",
       "  </thead>\n",
       "  <tbody>\n",
       "    <tr>\n",
       "      <th>0</th>\n",
       "      <td>Farm Price</td>\n",
       "      <td>JOHOR BAHRU, JOHOR</td>\n",
       "      <td>AYAM HIDUP</td>\n",
       "      <td>F.A.Q</td>\n",
       "      <td>100 KG</td>\n",
       "      <td>610.00</td>\n",
       "      <td>610.00</td>\n",
       "      <td>610.00</td>\n",
       "    </tr>\n",
       "    <tr>\n",
       "      <th>1</th>\n",
       "      <td>Farm Price</td>\n",
       "      <td>JOHOR BAHRU, JOHOR</td>\n",
       "      <td>BAYAM</td>\n",
       "      <td>F.A.Q</td>\n",
       "      <td>100 KG</td>\n",
       "      <td>400.00</td>\n",
       "      <td>350.00</td>\n",
       "      <td>300.00</td>\n",
       "    </tr>\n",
       "    <tr>\n",
       "      <th>2</th>\n",
       "      <td>Farm Price</td>\n",
       "      <td>JOHOR BAHRU, JOHOR</td>\n",
       "      <td>BETIK SEKAKI</td>\n",
       "      <td>F.A.Q</td>\n",
       "      <td>100 KG</td>\n",
       "      <td>200.00</td>\n",
       "      <td>190.00</td>\n",
       "      <td>180.00</td>\n",
       "    </tr>\n",
       "    <tr>\n",
       "      <th>3</th>\n",
       "      <td>Farm Price</td>\n",
       "      <td>JOHOR BAHRU, JOHOR</td>\n",
       "      <td>BUNGA KANTAN</td>\n",
       "      <td>F.A.Q</td>\n",
       "      <td>TANGKAI</td>\n",
       "      <td>0.50</td>\n",
       "      <td>0.50</td>\n",
       "      <td>0.50</td>\n",
       "    </tr>\n",
       "    <tr>\n",
       "      <th>4</th>\n",
       "      <td>Farm Price</td>\n",
       "      <td>JOHOR BAHRU, JOHOR</td>\n",
       "      <td>CILI HIJAU</td>\n",
       "      <td>F.A.Q</td>\n",
       "      <td>100 KG</td>\n",
       "      <td>800.00</td>\n",
       "      <td>750.00</td>\n",
       "      <td>700.00</td>\n",
       "    </tr>\n",
       "    <tr>\n",
       "      <th>...</th>\n",
       "      <td>...</td>\n",
       "      <td>...</td>\n",
       "      <td>...</td>\n",
       "      <td>...</td>\n",
       "      <td>...</td>\n",
       "      <td>...</td>\n",
       "      <td>...</td>\n",
       "      <td>...</td>\n",
       "    </tr>\n",
       "    <tr>\n",
       "      <th>1658</th>\n",
       "      <td>Retail Price</td>\n",
       "      <td>LABUAN, W.P. LABUAN</td>\n",
       "      <td>TEMBIKAI MERAH TANPA BIJI</td>\n",
       "      <td>F.A.Q</td>\n",
       "      <td>KG</td>\n",
       "      <td>4.00</td>\n",
       "      <td>3.75</td>\n",
       "      <td>3.50</td>\n",
       "    </tr>\n",
       "    <tr>\n",
       "      <th>1659</th>\n",
       "      <td>Retail Price</td>\n",
       "      <td>LABUAN, W.P. LABUAN</td>\n",
       "      <td>TERUNG PANJANG / PEPARU (TANAH RENDAH)</td>\n",
       "      <td>F.A.Q</td>\n",
       "      <td>KG</td>\n",
       "      <td>7.00</td>\n",
       "      <td>6.75</td>\n",
       "      <td>6.50</td>\n",
       "    </tr>\n",
       "    <tr>\n",
       "      <th>1660</th>\n",
       "      <td>Retail Price</td>\n",
       "      <td>LABUAN, W.P. LABUAN</td>\n",
       "      <td>TIMUN HIJAU</td>\n",
       "      <td>F.A.Q</td>\n",
       "      <td>KG</td>\n",
       "      <td>5.00</td>\n",
       "      <td>4.65</td>\n",
       "      <td>4.30</td>\n",
       "    </tr>\n",
       "    <tr>\n",
       "      <th>1661</th>\n",
       "      <td>Retail Price</td>\n",
       "      <td>LABUAN, W.P. LABUAN</td>\n",
       "      <td>TOMATO (TANAH TINGGI)</td>\n",
       "      <td>F.A.Q</td>\n",
       "      <td>KG</td>\n",
       "      <td>10.00</td>\n",
       "      <td>9.50</td>\n",
       "      <td>9.00</td>\n",
       "    </tr>\n",
       "    <tr>\n",
       "      <th>1662</th>\n",
       "      <td>Retail Price</td>\n",
       "      <td>LABUAN, W.P. LABUAN</td>\n",
       "      <td>UBI KENTANG HOLLAND</td>\n",
       "      <td>F.A.Q</td>\n",
       "      <td>KG</td>\n",
       "      <td>5.00</td>\n",
       "      <td>4.50</td>\n",
       "      <td>4.00</td>\n",
       "    </tr>\n",
       "  </tbody>\n",
       "</table>\n",
       "<p>1663 rows × 8 columns</p>\n",
       "</div>"
      ],
      "text/plain": [
       "     Market Price Type               Centre  \\\n",
       "0           Farm Price   JOHOR BAHRU, JOHOR   \n",
       "1           Farm Price   JOHOR BAHRU, JOHOR   \n",
       "2           Farm Price   JOHOR BAHRU, JOHOR   \n",
       "3           Farm Price   JOHOR BAHRU, JOHOR   \n",
       "4           Farm Price   JOHOR BAHRU, JOHOR   \n",
       "...                ...                  ...   \n",
       "1658      Retail Price  LABUAN, W.P. LABUAN   \n",
       "1659      Retail Price  LABUAN, W.P. LABUAN   \n",
       "1660      Retail Price  LABUAN, W.P. LABUAN   \n",
       "1661      Retail Price  LABUAN, W.P. LABUAN   \n",
       "1662      Retail Price  LABUAN, W.P. LABUAN   \n",
       "\n",
       "                                Variety Name  Grade     Unit Max Price  \\\n",
       "0                                 AYAM HIDUP  F.A.Q   100 KG    610.00   \n",
       "1                                     BAYAM   F.A.Q   100 KG    400.00   \n",
       "2                               BETIK SEKAKI  F.A.Q   100 KG    200.00   \n",
       "3                               BUNGA KANTAN  F.A.Q  TANGKAI      0.50   \n",
       "4                                 CILI HIJAU  F.A.Q   100 KG    800.00   \n",
       "...                                      ...    ...      ...       ...   \n",
       "1658               TEMBIKAI MERAH TANPA BIJI  F.A.Q       KG      4.00   \n",
       "1659  TERUNG PANJANG / PEPARU (TANAH RENDAH)  F.A.Q       KG      7.00   \n",
       "1660                            TIMUN HIJAU   F.A.Q       KG      5.00   \n",
       "1661                   TOMATO (TANAH TINGGI)  F.A.Q       KG     10.00   \n",
       "1662                     UBI KENTANG HOLLAND  F.A.Q       KG      5.00   \n",
       "\n",
       "     Average Price Min. Price  \n",
       "0           610.00     610.00  \n",
       "1           350.00     300.00  \n",
       "2           190.00     180.00  \n",
       "3             0.50       0.50  \n",
       "4           750.00     700.00  \n",
       "...            ...        ...  \n",
       "1658          3.75       3.50  \n",
       "1659          6.75       6.50  \n",
       "1660          4.65       4.30  \n",
       "1661          9.50       9.00  \n",
       "1662          4.50       4.00  \n",
       "\n",
       "[1663 rows x 8 columns]"
      ]
     },
     "execution_count": 12,
     "metadata": {},
     "output_type": "execute_result"
    }
   ],
   "source": [
    "df"
   ]
  }
 ],
 "metadata": {
  "interpreter": {
   "hash": "409f34ef1c598ff3425fe54ab37de5296b4f98f2f990fc88d60a6b815f77c32b"
  },
  "kernelspec": {
   "display_name": "Python 3.9.12 ('fama-scrape')",
   "language": "python",
   "name": "python3"
  },
  "language_info": {
   "codemirror_mode": {
    "name": "ipython",
    "version": 3
   },
   "file_extension": ".py",
   "mimetype": "text/x-python",
   "name": "python",
   "nbconvert_exporter": "python",
   "pygments_lexer": "ipython3",
   "version": "3.9.12"
  },
  "orig_nbformat": 4
 },
 "nbformat": 4,
 "nbformat_minor": 2
}
